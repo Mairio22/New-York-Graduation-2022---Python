{
 "cells": [
  {
   "cell_type": "markdown",
   "id": "4a7a17a0",
   "metadata": {},
   "source": [
    "# 6.4 Machine Learning Part 1"
   ]
  },
  {
   "cell_type": "markdown",
   "id": "d2b528b6",
   "metadata": {},
   "source": [
    "### This script contains the following:\n",
    "\n",
    "#### 1. Importing libraries and data\n",
    "#### 2. Data cleaning\n",
    "#### 3. Data prep for regression analysis\n",
    "#### 4. Regression analysis\n",
    "#### Bonus: performance improvement after removing outliers"
   ]
  },
  {
   "cell_type": "markdown",
   "id": "07a5bcf2",
   "metadata": {},
   "source": [
    "## 1. Importing libraries and data"
   ]
  },
  {
   "cell_type": "code",
   "execution_count": 2,
   "id": "07155e83",
   "metadata": {},
   "outputs": [],
   "source": [
    "import pandas as pd\n",
    "import numpy as np\n",
    "import seaborn as sns\n",
    "import matplotlib\n",
    "import matplotlib.pyplot as plt\n",
    "import os\n",
    "import sklearn\n",
    "from sklearn.model_selection import train_test_split \n",
    "from sklearn.linear_model import LinearRegression\n",
    "from sklearn.metrics import mean_squared_error, r2_score"
   ]
  },
  {
   "cell_type": "code",
   "execution_count": 3,
   "id": "2221acb5",
   "metadata": {},
   "outputs": [],
   "source": [
    "# This option ensures that the graphs you create are displayed within the notebook without the need to \"call\" them specifically.\n",
    "\n",
    "%matplotlib inline"
   ]
  },
  {
   "cell_type": "code",
   "execution_count": 4,
   "id": "4f2a5e22",
   "metadata": {},
   "outputs": [],
   "source": [
    "# Define path\n",
    "\n",
    "path = r'/Users/maitran/Documents/Grad Rate NY 2022'"
   ]
  },
  {
   "cell_type": "code",
   "execution_count": 49,
   "id": "04bc3afd",
   "metadata": {},
   "outputs": [],
   "source": [
    "# Import clean data\n",
    "df= pd.read_csv(os.path.join(path, '02 Data', 'Prepared Data', 'county_rec_cleaned.csv'), index_col = 0)"
   ]
  },
  {
   "cell_type": "markdown",
   "id": "2812f42c",
   "metadata": {},
   "source": [
    "## 2. Data Cleaning"
   ]
  },
  {
   "cell_type": "code",
   "execution_count": 50,
   "id": "5b121eb8",
   "metadata": {},
   "outputs": [
    {
     "data": {
      "text/plain": [
       "Index(['county_name', 'membership_desc', 'subgroup_name', 'enroll_count',\n",
       "       'grad_count', 'local_count', 'regents_diploma_count',\n",
       "       'regents_advanced_count', 'non_diploma_credential_count',\n",
       "       'still_enroll_count', 'ged_count', 'dropout_count'],\n",
       "      dtype='object')"
      ]
     },
     "execution_count": 50,
     "metadata": {},
     "output_type": "execute_result"
    }
   ],
   "source": [
    "df.columns"
   ]
  },
  {
   "cell_type": "code",
   "execution_count": 51,
   "id": "176b8e4b",
   "metadata": {},
   "outputs": [
    {
     "data": {
      "text/plain": [
       "(159407, 12)"
      ]
     },
     "execution_count": 51,
     "metadata": {},
     "output_type": "execute_result"
    }
   ],
   "source": [
    "df.shape"
   ]
  },
  {
   "cell_type": "code",
   "execution_count": 52,
   "id": "3d247aad",
   "metadata": {},
   "outputs": [
    {
     "data": {
      "text/html": [
       "<div>\n",
       "<style scoped>\n",
       "    .dataframe tbody tr th:only-of-type {\n",
       "        vertical-align: middle;\n",
       "    }\n",
       "\n",
       "    .dataframe tbody tr th {\n",
       "        vertical-align: top;\n",
       "    }\n",
       "\n",
       "    .dataframe thead th {\n",
       "        text-align: right;\n",
       "    }\n",
       "</style>\n",
       "<table border=\"1\" class=\"dataframe\">\n",
       "  <thead>\n",
       "    <tr style=\"text-align: right;\">\n",
       "      <th></th>\n",
       "      <th>county_name</th>\n",
       "      <th>membership_desc</th>\n",
       "      <th>subgroup_name</th>\n",
       "      <th>enroll_count</th>\n",
       "      <th>grad_count</th>\n",
       "      <th>local_count</th>\n",
       "      <th>regents_diploma_count</th>\n",
       "      <th>regents_advanced_count</th>\n",
       "      <th>non_diploma_credential_count</th>\n",
       "      <th>still_enroll_count</th>\n",
       "      <th>ged_count</th>\n",
       "      <th>dropout_count</th>\n",
       "    </tr>\n",
       "  </thead>\n",
       "  <tbody>\n",
       "    <tr>\n",
       "      <th>1103</th>\n",
       "      <td>Albany</td>\n",
       "      <td>2016 Total Cohort - 6 Year Outcome</td>\n",
       "      <td>American Indian or Alaska Native</td>\n",
       "      <td>8</td>\n",
       "      <td>6.0</td>\n",
       "      <td>1.0</td>\n",
       "      <td>2.0</td>\n",
       "      <td>3.0</td>\n",
       "      <td>0.0</td>\n",
       "      <td>1.0</td>\n",
       "      <td>1.0</td>\n",
       "      <td>0.0</td>\n",
       "    </tr>\n",
       "    <tr>\n",
       "      <th>1104</th>\n",
       "      <td>Albany</td>\n",
       "      <td>2016 Total Cohort - 6 Year Outcome</td>\n",
       "      <td>Asian or Native Hawaiian/Other Pacific Islander</td>\n",
       "      <td>284</td>\n",
       "      <td>272.0</td>\n",
       "      <td>1.0</td>\n",
       "      <td>62.0</td>\n",
       "      <td>209.0</td>\n",
       "      <td>2.0</td>\n",
       "      <td>2.0</td>\n",
       "      <td>0.0</td>\n",
       "      <td>8.0</td>\n",
       "    </tr>\n",
       "    <tr>\n",
       "      <th>1105</th>\n",
       "      <td>Albany</td>\n",
       "      <td>2016 Total Cohort - 6 Year Outcome</td>\n",
       "      <td>Black or African American</td>\n",
       "      <td>651</td>\n",
       "      <td>537.0</td>\n",
       "      <td>26.0</td>\n",
       "      <td>378.0</td>\n",
       "      <td>133.0</td>\n",
       "      <td>12.0</td>\n",
       "      <td>27.0</td>\n",
       "      <td>6.0</td>\n",
       "      <td>69.0</td>\n",
       "    </tr>\n",
       "    <tr>\n",
       "      <th>1106</th>\n",
       "      <td>Albany</td>\n",
       "      <td>2016 Total Cohort - 6 Year Outcome</td>\n",
       "      <td>Hispanic or Latino</td>\n",
       "      <td>247</td>\n",
       "      <td>200.0</td>\n",
       "      <td>12.0</td>\n",
       "      <td>117.0</td>\n",
       "      <td>71.0</td>\n",
       "      <td>5.0</td>\n",
       "      <td>5.0</td>\n",
       "      <td>2.0</td>\n",
       "      <td>35.0</td>\n",
       "    </tr>\n",
       "    <tr>\n",
       "      <th>1108</th>\n",
       "      <td>Albany</td>\n",
       "      <td>2016 Total Cohort - 6 Year Outcome</td>\n",
       "      <td>Multiracial</td>\n",
       "      <td>102</td>\n",
       "      <td>88.0</td>\n",
       "      <td>1.0</td>\n",
       "      <td>46.0</td>\n",
       "      <td>41.0</td>\n",
       "      <td>0.0</td>\n",
       "      <td>2.0</td>\n",
       "      <td>0.0</td>\n",
       "      <td>12.0</td>\n",
       "    </tr>\n",
       "  </tbody>\n",
       "</table>\n",
       "</div>"
      ],
      "text/plain": [
       "     county_name                     membership_desc  \\\n",
       "1103      Albany  2016 Total Cohort - 6 Year Outcome   \n",
       "1104      Albany  2016 Total Cohort - 6 Year Outcome   \n",
       "1105      Albany  2016 Total Cohort - 6 Year Outcome   \n",
       "1106      Albany  2016 Total Cohort - 6 Year Outcome   \n",
       "1108      Albany  2016 Total Cohort - 6 Year Outcome   \n",
       "\n",
       "                                        subgroup_name  enroll_count  \\\n",
       "1103                 American Indian or Alaska Native             8   \n",
       "1104  Asian or Native Hawaiian/Other Pacific Islander           284   \n",
       "1105                        Black or African American           651   \n",
       "1106                               Hispanic or Latino           247   \n",
       "1108                                      Multiracial           102   \n",
       "\n",
       "      grad_count  local_count  regents_diploma_count  regents_advanced_count  \\\n",
       "1103         6.0          1.0                    2.0                     3.0   \n",
       "1104       272.0          1.0                   62.0                   209.0   \n",
       "1105       537.0         26.0                  378.0                   133.0   \n",
       "1106       200.0         12.0                  117.0                    71.0   \n",
       "1108        88.0          1.0                   46.0                    41.0   \n",
       "\n",
       "      non_diploma_credential_count  still_enroll_count  ged_count  \\\n",
       "1103                           0.0                 1.0        1.0   \n",
       "1104                           2.0                 2.0        0.0   \n",
       "1105                          12.0                27.0        6.0   \n",
       "1106                           5.0                 5.0        2.0   \n",
       "1108                           0.0                 2.0        0.0   \n",
       "\n",
       "      dropout_count  \n",
       "1103            0.0  \n",
       "1104            8.0  \n",
       "1105           69.0  \n",
       "1106           35.0  \n",
       "1108           12.0  "
      ]
     },
     "execution_count": 52,
     "metadata": {},
     "output_type": "execute_result"
    }
   ],
   "source": [
    "df.head()"
   ]
  },
  {
   "cell_type": "code",
   "execution_count": 53,
   "id": "c403a909",
   "metadata": {
    "scrolled": false
   },
   "outputs": [
    {
     "name": "stdout",
     "output_type": "stream",
     "text": [
      "<class 'pandas.core.frame.DataFrame'>\n",
      "Int64Index: 159407 entries, 1103 to 221865\n",
      "Data columns (total 12 columns):\n",
      " #   Column                        Non-Null Count   Dtype  \n",
      "---  ------                        --------------   -----  \n",
      " 0   county_name                   159407 non-null  object \n",
      " 1   membership_desc               159407 non-null  object \n",
      " 2   subgroup_name                 159407 non-null  object \n",
      " 3   enroll_count                  159407 non-null  int64  \n",
      " 4   grad_count                    159407 non-null  float64\n",
      " 5   local_count                   159407 non-null  float64\n",
      " 6   regents_diploma_count         159407 non-null  float64\n",
      " 7   regents_advanced_count        159407 non-null  float64\n",
      " 8   non_diploma_credential_count  159407 non-null  float64\n",
      " 9   still_enroll_count            159407 non-null  float64\n",
      " 10  ged_count                     159407 non-null  float64\n",
      " 11  dropout_count                 159407 non-null  float64\n",
      "dtypes: float64(8), int64(1), object(3)\n",
      "memory usage: 15.8+ MB\n"
     ]
    },
    {
     "data": {
      "text/html": [
       "<div>\n",
       "<style scoped>\n",
       "    .dataframe tbody tr th:only-of-type {\n",
       "        vertical-align: middle;\n",
       "    }\n",
       "\n",
       "    .dataframe tbody tr th {\n",
       "        vertical-align: top;\n",
       "    }\n",
       "\n",
       "    .dataframe thead th {\n",
       "        text-align: right;\n",
       "    }\n",
       "</style>\n",
       "<table border=\"1\" class=\"dataframe\">\n",
       "  <thead>\n",
       "    <tr style=\"text-align: right;\">\n",
       "      <th></th>\n",
       "      <th>enroll_count</th>\n",
       "      <th>grad_count</th>\n",
       "      <th>local_count</th>\n",
       "      <th>regents_diploma_count</th>\n",
       "      <th>regents_advanced_count</th>\n",
       "      <th>non_diploma_credential_count</th>\n",
       "      <th>still_enroll_count</th>\n",
       "      <th>ged_count</th>\n",
       "      <th>dropout_count</th>\n",
       "    </tr>\n",
       "  </thead>\n",
       "  <tbody>\n",
       "    <tr>\n",
       "      <th>count</th>\n",
       "      <td>159407.000000</td>\n",
       "      <td>159407.000000</td>\n",
       "      <td>159407.000000</td>\n",
       "      <td>159407.000000</td>\n",
       "      <td>159407.000000</td>\n",
       "      <td>159407.000000</td>\n",
       "      <td>159407.000000</td>\n",
       "      <td>159407.000000</td>\n",
       "      <td>159407.000000</td>\n",
       "    </tr>\n",
       "    <tr>\n",
       "      <th>mean</th>\n",
       "      <td>114.169579</td>\n",
       "      <td>102.076879</td>\n",
       "      <td>1.931151</td>\n",
       "      <td>51.247091</td>\n",
       "      <td>48.898637</td>\n",
       "      <td>0.720671</td>\n",
       "      <td>4.043674</td>\n",
       "      <td>0.744290</td>\n",
       "      <td>6.521828</td>\n",
       "    </tr>\n",
       "    <tr>\n",
       "      <th>std</th>\n",
       "      <td>144.217995</td>\n",
       "      <td>130.768657</td>\n",
       "      <td>4.264235</td>\n",
       "      <td>66.645557</td>\n",
       "      <td>82.438849</td>\n",
       "      <td>1.974228</td>\n",
       "      <td>10.195946</td>\n",
       "      <td>2.247068</td>\n",
       "      <td>12.646081</td>\n",
       "    </tr>\n",
       "    <tr>\n",
       "      <th>min</th>\n",
       "      <td>5.000000</td>\n",
       "      <td>0.000000</td>\n",
       "      <td>0.000000</td>\n",
       "      <td>0.000000</td>\n",
       "      <td>0.000000</td>\n",
       "      <td>0.000000</td>\n",
       "      <td>0.000000</td>\n",
       "      <td>0.000000</td>\n",
       "      <td>0.000000</td>\n",
       "    </tr>\n",
       "    <tr>\n",
       "      <th>25%</th>\n",
       "      <td>27.000000</td>\n",
       "      <td>22.000000</td>\n",
       "      <td>0.000000</td>\n",
       "      <td>13.000000</td>\n",
       "      <td>3.000000</td>\n",
       "      <td>0.000000</td>\n",
       "      <td>0.000000</td>\n",
       "      <td>0.000000</td>\n",
       "      <td>1.000000</td>\n",
       "    </tr>\n",
       "    <tr>\n",
       "      <th>50%</th>\n",
       "      <td>64.000000</td>\n",
       "      <td>56.000000</td>\n",
       "      <td>0.000000</td>\n",
       "      <td>30.000000</td>\n",
       "      <td>16.000000</td>\n",
       "      <td>0.000000</td>\n",
       "      <td>1.000000</td>\n",
       "      <td>0.000000</td>\n",
       "      <td>2.000000</td>\n",
       "    </tr>\n",
       "    <tr>\n",
       "      <th>75%</th>\n",
       "      <td>133.000000</td>\n",
       "      <td>121.000000</td>\n",
       "      <td>2.000000</td>\n",
       "      <td>62.000000</td>\n",
       "      <td>54.000000</td>\n",
       "      <td>1.000000</td>\n",
       "      <td>4.000000</td>\n",
       "      <td>1.000000</td>\n",
       "      <td>7.000000</td>\n",
       "    </tr>\n",
       "    <tr>\n",
       "      <th>max</th>\n",
       "      <td>999.000000</td>\n",
       "      <td>984.000000</td>\n",
       "      <td>49.000000</td>\n",
       "      <td>742.000000</td>\n",
       "      <td>902.000000</td>\n",
       "      <td>61.000000</td>\n",
       "      <td>218.000000</td>\n",
       "      <td>58.000000</td>\n",
       "      <td>312.000000</td>\n",
       "    </tr>\n",
       "  </tbody>\n",
       "</table>\n",
       "</div>"
      ],
      "text/plain": [
       "        enroll_count     grad_count    local_count  regents_diploma_count  \\\n",
       "count  159407.000000  159407.000000  159407.000000          159407.000000   \n",
       "mean      114.169579     102.076879       1.931151              51.247091   \n",
       "std       144.217995     130.768657       4.264235              66.645557   \n",
       "min         5.000000       0.000000       0.000000               0.000000   \n",
       "25%        27.000000      22.000000       0.000000              13.000000   \n",
       "50%        64.000000      56.000000       0.000000              30.000000   \n",
       "75%       133.000000     121.000000       2.000000              62.000000   \n",
       "max       999.000000     984.000000      49.000000             742.000000   \n",
       "\n",
       "       regents_advanced_count  non_diploma_credential_count  \\\n",
       "count           159407.000000                 159407.000000   \n",
       "mean                48.898637                      0.720671   \n",
       "std                 82.438849                      1.974228   \n",
       "min                  0.000000                      0.000000   \n",
       "25%                  3.000000                      0.000000   \n",
       "50%                 16.000000                      0.000000   \n",
       "75%                 54.000000                      1.000000   \n",
       "max                902.000000                     61.000000   \n",
       "\n",
       "       still_enroll_count      ged_count  dropout_count  \n",
       "count       159407.000000  159407.000000  159407.000000  \n",
       "mean             4.043674       0.744290       6.521828  \n",
       "std             10.195946       2.247068      12.646081  \n",
       "min              0.000000       0.000000       0.000000  \n",
       "25%              0.000000       0.000000       1.000000  \n",
       "50%              1.000000       0.000000       2.000000  \n",
       "75%              4.000000       1.000000       7.000000  \n",
       "max            218.000000      58.000000     312.000000  "
      ]
     },
     "execution_count": 53,
     "metadata": {},
     "output_type": "execute_result"
    }
   ],
   "source": [
    "df.info()\n",
    "df.describe()"
   ]
  },
  {
   "cell_type": "code",
   "execution_count": 54,
   "id": "75a9fe06",
   "metadata": {
    "scrolled": false
   },
   "outputs": [
    {
     "data": {
      "text/plain": [
       "county_name                     0\n",
       "membership_desc                 0\n",
       "subgroup_name                   0\n",
       "enroll_count                    0\n",
       "grad_count                      0\n",
       "local_count                     0\n",
       "regents_diploma_count           0\n",
       "regents_advanced_count          0\n",
       "non_diploma_credential_count    0\n",
       "still_enroll_count              0\n",
       "ged_count                       0\n",
       "dropout_count                   0\n",
       "dtype: int64"
      ]
     },
     "execution_count": 54,
     "metadata": {},
     "output_type": "execute_result"
    }
   ],
   "source": [
    "# Check for missing values\n",
    "df.isnull().sum()"
   ]
  },
  {
   "cell_type": "code",
   "execution_count": 62,
   "id": "19fa7e0b",
   "metadata": {},
   "outputs": [],
   "source": [
    "dups = df.duplicated()"
   ]
  },
  {
   "cell_type": "code",
   "execution_count": 63,
   "id": "151b1319",
   "metadata": {},
   "outputs": [
    {
     "data": {
      "text/plain": [
       "(159407,)"
      ]
     },
     "execution_count": 63,
     "metadata": {},
     "output_type": "execute_result"
    }
   ],
   "source": [
    "dups.shape # No dups"
   ]
  },
  {
   "cell_type": "markdown",
   "id": "7e40ad67",
   "metadata": {},
   "source": [
    "## 3. Data prep for regression analysis "
   ]
  },
  {
   "cell_type": "markdown",
   "id": "b718d129",
   "metadata": {},
   "source": [
    "#### Hypothesis 1: If the count of student with regents diploma increases, the grad count in that county also increases."
   ]
  },
  {
   "cell_type": "code",
   "execution_count": 55,
   "id": "77b91528",
   "metadata": {},
   "outputs": [
    {
     "data": {
      "image/png": "[encoded data removed]",
      "text/plain": [
       "<Figure size 640x480 with 1 Axes>"
      ]
     },
     "metadata": {},
     "output_type": "display_data"
    }
   ],
   "source": [
    "# Create a scatterplot using matplotlib for another look at how the chosen variables plot against each other.\n",
    "\n",
    "df.plot(x = 'regents_diploma_count', y='grad_count',style='o') # The style option creates a scatterplot; without it, we only have lines.\n",
    "plt.title('Regents Diploma Count vs Grad Count')  \n",
    "plt.xlabel('Regents Diploma Count')  \n",
    "plt.ylabel('Grad Count')  \n",
    "plt.show()"
   ]
  },
  {
   "cell_type": "code",
   "execution_count": 56,
   "id": "4a2fcdc6",
   "metadata": {},
   "outputs": [],
   "source": [
    "# Reshape the variables into NumPy arrays and put them into separate objects.\n",
    "\n",
    "X = df['regents_diploma_count'].values.reshape(-1,1)\n",
    "y = df['grad_count'].values.reshape(-1,1)"
   ]
  },
  {
   "cell_type": "code",
   "execution_count": 57,
   "id": "523654d3",
   "metadata": {},
   "outputs": [
    {
     "data": {
      "text/plain": [
       "array([[  2.],\n",
       "       [ 62.],\n",
       "       [378.],\n",
       "       ...,\n",
       "       [ 24.],\n",
       "       [ 24.],\n",
       "       [ 24.]])"
      ]
     },
     "execution_count": 57,
     "metadata": {},
     "output_type": "execute_result"
    }
   ],
   "source": [
    "X"
   ]
  },
  {
   "cell_type": "code",
   "execution_count": 58,
   "id": "92578794",
   "metadata": {},
   "outputs": [
    {
     "data": {
      "text/plain": [
       "array([[  6.],\n",
       "       [272.],\n",
       "       [537.],\n",
       "       ...,\n",
       "       [ 30.],\n",
       "       [ 30.],\n",
       "       [ 30.]])"
      ]
     },
     "execution_count": 58,
     "metadata": {},
     "output_type": "execute_result"
    }
   ],
   "source": [
    "y"
   ]
  },
  {
   "cell_type": "code",
   "execution_count": 59,
   "id": "3471a085",
   "metadata": {},
   "outputs": [],
   "source": [
    "# Split data into a training set and a test set.\n",
    "\n",
    "X_train, X_test, y_train, y_test = train_test_split(X, y, test_size=0.3, random_state=0)"
   ]
  },
  {
   "cell_type": "markdown",
   "id": "cdbd4d71",
   "metadata": {},
   "source": [
    "## 4. Regression analysis"
   ]
  },
  {
   "cell_type": "code",
   "execution_count": 60,
   "id": "2b17b2a6",
   "metadata": {},
   "outputs": [],
   "source": [
    "# Create a regression object.\n",
    "\n",
    "regression = LinearRegression()  # This is the regression object, which will be fit onto the training set."
   ]
  },
  {
   "cell_type": "code",
   "execution_count": 61,
   "id": "12cdedbd",
   "metadata": {},
   "outputs": [
    {
     "data": {
      "text/plain": [
       "LinearRegression()"
      ]
     },
     "execution_count": 61,
     "metadata": {},
     "output_type": "execute_result"
    }
   ],
   "source": [
    "# Fit the regression object onto the training set.\n",
    "\n",
    "regression.fit(X_train, y_train)"
   ]
  },
  {
   "cell_type": "code",
   "execution_count": 65,
   "id": "6be01ccc",
   "metadata": {},
   "outputs": [],
   "source": [
    "# Predict the values of y using X.\n",
    "\n",
    "y_predicted = regression.predict(X_test)\n"
   ]
  },
  {
   "cell_type": "code",
   "execution_count": 66,
   "id": "1af14af8",
   "metadata": {},
   "outputs": [
    {
     "data": {
      "image/png": "[encoded data removed]",
      "text/plain": [
       "<Figure size 640x480 with 1 Axes>"
      ]
     },
     "metadata": {},
     "output_type": "display_data"
    }
   ],
   "source": [
    "# Create a plot that shows the regression line from the model on the test set.\n",
    "\n",
    "plot_test = plt\n",
    "plot_test.scatter(X_test, y_test, color='gray', s = 15)\n",
    "plot_test.plot(X_test, y_predicted, color='red', linewidth =3)\n",
    "plot_test.title('Regents Diploma Count vs Grad Count (Test set)')\n",
    "plot_test.xlabel('Regents Diploma Count')\n",
    "plot_test.ylabel('Grad Count')\n",
    "plot_test.show()"
   ]
  },
  {
   "cell_type": "markdown",
   "id": "e2c1d1be",
   "metadata": {},
   "source": [
    "Observations: The linear model represented by the red regression line doesn’t perfectly cover all of the data points. In the area where the regents diploma count is high (500), for example, there are still many data points that indicate low grad counr, which contradicts the hypothesis."
   ]
  },
  {
   "cell_type": "code",
   "execution_count": 67,
   "id": "6d672251",
   "metadata": {},
   "outputs": [],
   "source": [
    "# Check the slope, MSE and R2 score.\n",
    "# Create objects that contain the model summary statistics.\n",
    "rmse = mean_squared_error(y_test, y_predicted)\n",
    "r2 = r2_score(y_test, y_predicted)"
   ]
  },
  {
   "cell_type": "code",
   "execution_count": 68,
   "id": "4bde409b",
   "metadata": {},
   "outputs": [
    {
     "name": "stdout",
     "output_type": "stream",
     "text": [
      "Slope: [[1.64585569]]\n",
      "Mean squared error:  5214.894404985095\n",
      "R2 score:  0.6942628332853266\n"
     ]
    }
   ],
   "source": [
    "# Print the model summary statistics. This is where we evaluate the performance of the model.\n",
    "\n",
    "print('Slope:' ,regression.coef_)\n",
    "print('Mean squared error: ', rmse)\n",
    "print('R2 score: ', r2)"
   ]
  },
  {
   "cell_type": "markdown",
   "id": "01b146d3",
   "metadata": {},
   "source": [
    "Observations: A positive slope (1.65) indicates a positive relationship between those 2 variables(as X rises, so does y). MSE is small (5214) compared to the whole data frame with 159407 rows. It means that the regression line passes fairly close to the observations, making it a good fit. The R2 score for the model is 0.6942. This as about 70% percentage out of one hundred. This means that the model is not a bad fit."
   ]
  },
  {
   "cell_type": "code",
   "execution_count": 69,
   "id": "5604094a",
   "metadata": {},
   "outputs": [
    {
     "data": {
      "text/plain": [
       "array([[106.6676214 ],\n",
       "       [ 90.20906455],\n",
       "       [ 75.39636339],\n",
       "       ...,\n",
       "       [401.27578904],\n",
       "       [ 40.833394  ],\n",
       "       [ 40.833394  ]])"
      ]
     },
     "execution_count": 69,
     "metadata": {},
     "output_type": "execute_result"
    }
   ],
   "source": [
    "y_predicted"
   ]
  },
  {
   "cell_type": "code",
   "execution_count": 71,
   "id": "6ee17dee",
   "metadata": {},
   "outputs": [
    {
     "data": {
      "text/html": [
       "<div>\n",
       "<style scoped>\n",
       "    .dataframe tbody tr th:only-of-type {\n",
       "        vertical-align: middle;\n",
       "    }\n",
       "\n",
       "    .dataframe tbody tr th {\n",
       "        vertical-align: top;\n",
       "    }\n",
       "\n",
       "    .dataframe thead th {\n",
       "        text-align: right;\n",
       "    }\n",
       "</style>\n",
       "<table border=\"1\" class=\"dataframe\">\n",
       "  <thead>\n",
       "    <tr style=\"text-align: right;\">\n",
       "      <th></th>\n",
       "      <th>Actual</th>\n",
       "      <th>Predicted</th>\n",
       "    </tr>\n",
       "  </thead>\n",
       "  <tbody>\n",
       "    <tr>\n",
       "      <th>0</th>\n",
       "      <td>464.0</td>\n",
       "      <td>106.667621</td>\n",
       "    </tr>\n",
       "    <tr>\n",
       "      <th>1</th>\n",
       "      <td>51.0</td>\n",
       "      <td>90.209065</td>\n",
       "    </tr>\n",
       "    <tr>\n",
       "      <th>2</th>\n",
       "      <td>106.0</td>\n",
       "      <td>75.396363</td>\n",
       "    </tr>\n",
       "    <tr>\n",
       "      <th>3</th>\n",
       "      <td>18.0</td>\n",
       "      <td>32.604116</td>\n",
       "    </tr>\n",
       "    <tr>\n",
       "      <th>4</th>\n",
       "      <td>62.0</td>\n",
       "      <td>75.396363</td>\n",
       "    </tr>\n",
       "    <tr>\n",
       "      <th>5</th>\n",
       "      <td>111.0</td>\n",
       "      <td>100.084199</td>\n",
       "    </tr>\n",
       "    <tr>\n",
       "      <th>6</th>\n",
       "      <td>224.0</td>\n",
       "      <td>368.358675</td>\n",
       "    </tr>\n",
       "    <tr>\n",
       "      <th>7</th>\n",
       "      <td>307.0</td>\n",
       "      <td>167.564282</td>\n",
       "    </tr>\n",
       "    <tr>\n",
       "      <th>8</th>\n",
       "      <td>76.0</td>\n",
       "      <td>90.209065</td>\n",
       "    </tr>\n",
       "    <tr>\n",
       "      <th>9</th>\n",
       "      <td>319.0</td>\n",
       "      <td>131.355457</td>\n",
       "    </tr>\n",
       "    <tr>\n",
       "      <th>10</th>\n",
       "      <td>107.0</td>\n",
       "      <td>27.666549</td>\n",
       "    </tr>\n",
       "    <tr>\n",
       "      <th>11</th>\n",
       "      <td>261.0</td>\n",
       "      <td>271.253190</td>\n",
       "    </tr>\n",
       "    <tr>\n",
       "      <th>12</th>\n",
       "      <td>385.0</td>\n",
       "      <td>437.484614</td>\n",
       "    </tr>\n",
       "    <tr>\n",
       "      <th>13</th>\n",
       "      <td>187.0</td>\n",
       "      <td>185.668694</td>\n",
       "    </tr>\n",
       "    <tr>\n",
       "      <th>14</th>\n",
       "      <td>39.0</td>\n",
       "      <td>81.979786</td>\n",
       "    </tr>\n",
       "    <tr>\n",
       "      <th>15</th>\n",
       "      <td>115.0</td>\n",
       "      <td>77.042219</td>\n",
       "    </tr>\n",
       "    <tr>\n",
       "      <th>16</th>\n",
       "      <td>31.0</td>\n",
       "      <td>40.833394</td>\n",
       "    </tr>\n",
       "    <tr>\n",
       "      <th>17</th>\n",
       "      <td>18.0</td>\n",
       "      <td>44.125105</td>\n",
       "    </tr>\n",
       "    <tr>\n",
       "      <th>18</th>\n",
       "      <td>217.0</td>\n",
       "      <td>129.709601</td>\n",
       "    </tr>\n",
       "    <tr>\n",
       "      <th>19</th>\n",
       "      <td>21.0</td>\n",
       "      <td>44.125105</td>\n",
       "    </tr>\n",
       "    <tr>\n",
       "      <th>20</th>\n",
       "      <td>24.0</td>\n",
       "      <td>49.062672</td>\n",
       "    </tr>\n",
       "    <tr>\n",
       "      <th>21</th>\n",
       "      <td>231.0</td>\n",
       "      <td>263.023911</td>\n",
       "    </tr>\n",
       "    <tr>\n",
       "      <th>22</th>\n",
       "      <td>8.0</td>\n",
       "      <td>30.958260</td>\n",
       "    </tr>\n",
       "    <tr>\n",
       "      <th>23</th>\n",
       "      <td>78.0</td>\n",
       "      <td>109.959333</td>\n",
       "    </tr>\n",
       "    <tr>\n",
       "      <th>24</th>\n",
       "      <td>25.0</td>\n",
       "      <td>47.416817</td>\n",
       "    </tr>\n",
       "    <tr>\n",
       "      <th>25</th>\n",
       "      <td>180.0</td>\n",
       "      <td>230.106798</td>\n",
       "    </tr>\n",
       "    <tr>\n",
       "      <th>26</th>\n",
       "      <td>76.0</td>\n",
       "      <td>118.188611</td>\n",
       "    </tr>\n",
       "    <tr>\n",
       "      <th>27</th>\n",
       "      <td>10.0</td>\n",
       "      <td>27.666549</td>\n",
       "    </tr>\n",
       "    <tr>\n",
       "      <th>28</th>\n",
       "      <td>52.0</td>\n",
       "      <td>63.875374</td>\n",
       "    </tr>\n",
       "    <tr>\n",
       "      <th>29</th>\n",
       "      <td>202.0</td>\n",
       "      <td>91.854920</td>\n",
       "    </tr>\n",
       "  </tbody>\n",
       "</table>\n",
       "</div>"
      ],
      "text/plain": [
       "    Actual   Predicted\n",
       "0    464.0  106.667621\n",
       "1     51.0   90.209065\n",
       "2    106.0   75.396363\n",
       "3     18.0   32.604116\n",
       "4     62.0   75.396363\n",
       "5    111.0  100.084199\n",
       "6    224.0  368.358675\n",
       "7    307.0  167.564282\n",
       "8     76.0   90.209065\n",
       "9    319.0  131.355457\n",
       "10   107.0   27.666549\n",
       "11   261.0  271.253190\n",
       "12   385.0  437.484614\n",
       "13   187.0  185.668694\n",
       "14    39.0   81.979786\n",
       "15   115.0   77.042219\n",
       "16    31.0   40.833394\n",
       "17    18.0   44.125105\n",
       "18   217.0  129.709601\n",
       "19    21.0   44.125105\n",
       "20    24.0   49.062672\n",
       "21   231.0  263.023911\n",
       "22     8.0   30.958260\n",
       "23    78.0  109.959333\n",
       "24    25.0   47.416817\n",
       "25   180.0  230.106798\n",
       "26    76.0  118.188611\n",
       "27    10.0   27.666549\n",
       "28    52.0   63.875374\n",
       "29   202.0   91.854920"
      ]
     },
     "execution_count": 71,
     "metadata": {},
     "output_type": "execute_result"
    }
   ],
   "source": [
    "# Create a dataframe comparing the actual and predicted values of y.\n",
    "\n",
    "data = pd.DataFrame({'Actual': y_test.flatten(), 'Predicted': y_predicted.flatten()})\n",
    "data.head(30)"
   ]
  },
  {
   "cell_type": "markdown",
   "id": "ef6bf88d",
   "metadata": {},
   "source": [
    "Observations: However, there’s quite the difference between the actual and predicted y values. This shows that the model isn’t doing a great job of explaining the relationship between the “Regents Diploma count” and \"Grad count” variables. The relationship simply doesn’t follow a single, straight regression line."
   ]
  },
  {
   "cell_type": "code",
   "execution_count": null,
   "id": "4ed28ef5",
   "metadata": {},
   "outputs": [],
   "source": []
  }
 ],
 "metadata": {
  "kernelspec": {
   "display_name": "Python 3 (ipykernel)",
   "language": "python",
   "name": "python3"
  },
  "language_info": {
   "codemirror_mode": {
    "name": "ipython",
    "version": 3
   },
   "file_extension": ".py",
   "mimetype": "text/x-python",
   "name": "python",
   "nbconvert_exporter": "python",
   "pygments_lexer": "ipython3",
   "version": "3.9.13"
  }
 },
 "nbformat": 4,
 "nbformat_minor": 5
}
